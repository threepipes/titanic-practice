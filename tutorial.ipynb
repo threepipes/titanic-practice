{
 "cells": [
  {
   "cell_type": "code",
   "execution_count": 1,
   "metadata": {
    "collapsed": true
   },
   "outputs": [],
   "source": [
    "import pandas as pd\n",
    "import numpy as np"
   ]
  },
  {
   "cell_type": "code",
   "execution_count": 2,
   "metadata": {
    "collapsed": false
   },
   "outputs": [
    {
     "data": {
      "text/html": [
       "<div>\n",
       "<table border=\"1\" class=\"dataframe\">\n",
       "  <thead>\n",
       "    <tr style=\"text-align: right;\">\n",
       "      <th></th>\n",
       "      <th>PassengerId</th>\n",
       "      <th>Survived</th>\n",
       "      <th>Pclass</th>\n",
       "      <th>Name</th>\n",
       "      <th>Sex</th>\n",
       "      <th>Age</th>\n",
       "      <th>SibSp</th>\n",
       "      <th>Parch</th>\n",
       "      <th>Ticket</th>\n",
       "      <th>Fare</th>\n",
       "      <th>Cabin</th>\n",
       "      <th>Embarked</th>\n",
       "    </tr>\n",
       "  </thead>\n",
       "  <tbody>\n",
       "    <tr>\n",
       "      <th>0</th>\n",
       "      <td>1</td>\n",
       "      <td>0</td>\n",
       "      <td>3</td>\n",
       "      <td>Braund, Mr. Owen Harris</td>\n",
       "      <td>male</td>\n",
       "      <td>22.0</td>\n",
       "      <td>1</td>\n",
       "      <td>0</td>\n",
       "      <td>A/5 21171</td>\n",
       "      <td>7.2500</td>\n",
       "      <td>NaN</td>\n",
       "      <td>S</td>\n",
       "    </tr>\n",
       "    <tr>\n",
       "      <th>1</th>\n",
       "      <td>2</td>\n",
       "      <td>1</td>\n",
       "      <td>1</td>\n",
       "      <td>Cumings, Mrs. John Bradley (Florence Briggs Th...</td>\n",
       "      <td>female</td>\n",
       "      <td>38.0</td>\n",
       "      <td>1</td>\n",
       "      <td>0</td>\n",
       "      <td>PC 17599</td>\n",
       "      <td>71.2833</td>\n",
       "      <td>C85</td>\n",
       "      <td>C</td>\n",
       "    </tr>\n",
       "    <tr>\n",
       "      <th>2</th>\n",
       "      <td>3</td>\n",
       "      <td>1</td>\n",
       "      <td>3</td>\n",
       "      <td>Heikkinen, Miss. Laina</td>\n",
       "      <td>female</td>\n",
       "      <td>26.0</td>\n",
       "      <td>0</td>\n",
       "      <td>0</td>\n",
       "      <td>STON/O2. 3101282</td>\n",
       "      <td>7.9250</td>\n",
       "      <td>NaN</td>\n",
       "      <td>S</td>\n",
       "    </tr>\n",
       "    <tr>\n",
       "      <th>3</th>\n",
       "      <td>4</td>\n",
       "      <td>1</td>\n",
       "      <td>1</td>\n",
       "      <td>Futrelle, Mrs. Jacques Heath (Lily May Peel)</td>\n",
       "      <td>female</td>\n",
       "      <td>35.0</td>\n",
       "      <td>1</td>\n",
       "      <td>0</td>\n",
       "      <td>113803</td>\n",
       "      <td>53.1000</td>\n",
       "      <td>C123</td>\n",
       "      <td>S</td>\n",
       "    </tr>\n",
       "    <tr>\n",
       "      <th>4</th>\n",
       "      <td>5</td>\n",
       "      <td>0</td>\n",
       "      <td>3</td>\n",
       "      <td>Allen, Mr. William Henry</td>\n",
       "      <td>male</td>\n",
       "      <td>35.0</td>\n",
       "      <td>0</td>\n",
       "      <td>0</td>\n",
       "      <td>373450</td>\n",
       "      <td>8.0500</td>\n",
       "      <td>NaN</td>\n",
       "      <td>S</td>\n",
       "    </tr>\n",
       "    <tr>\n",
       "      <th>5</th>\n",
       "      <td>6</td>\n",
       "      <td>0</td>\n",
       "      <td>3</td>\n",
       "      <td>Moran, Mr. James</td>\n",
       "      <td>male</td>\n",
       "      <td>NaN</td>\n",
       "      <td>0</td>\n",
       "      <td>0</td>\n",
       "      <td>330877</td>\n",
       "      <td>8.4583</td>\n",
       "      <td>NaN</td>\n",
       "      <td>Q</td>\n",
       "    </tr>\n",
       "    <tr>\n",
       "      <th>6</th>\n",
       "      <td>7</td>\n",
       "      <td>0</td>\n",
       "      <td>1</td>\n",
       "      <td>McCarthy, Mr. Timothy J</td>\n",
       "      <td>male</td>\n",
       "      <td>54.0</td>\n",
       "      <td>0</td>\n",
       "      <td>0</td>\n",
       "      <td>17463</td>\n",
       "      <td>51.8625</td>\n",
       "      <td>E46</td>\n",
       "      <td>S</td>\n",
       "    </tr>\n",
       "    <tr>\n",
       "      <th>7</th>\n",
       "      <td>8</td>\n",
       "      <td>0</td>\n",
       "      <td>3</td>\n",
       "      <td>Palsson, Master. Gosta Leonard</td>\n",
       "      <td>male</td>\n",
       "      <td>2.0</td>\n",
       "      <td>3</td>\n",
       "      <td>1</td>\n",
       "      <td>349909</td>\n",
       "      <td>21.0750</td>\n",
       "      <td>NaN</td>\n",
       "      <td>S</td>\n",
       "    </tr>\n",
       "    <tr>\n",
       "      <th>8</th>\n",
       "      <td>9</td>\n",
       "      <td>1</td>\n",
       "      <td>3</td>\n",
       "      <td>Johnson, Mrs. Oscar W (Elisabeth Vilhelmina Berg)</td>\n",
       "      <td>female</td>\n",
       "      <td>27.0</td>\n",
       "      <td>0</td>\n",
       "      <td>2</td>\n",
       "      <td>347742</td>\n",
       "      <td>11.1333</td>\n",
       "      <td>NaN</td>\n",
       "      <td>S</td>\n",
       "    </tr>\n",
       "    <tr>\n",
       "      <th>9</th>\n",
       "      <td>10</td>\n",
       "      <td>1</td>\n",
       "      <td>2</td>\n",
       "      <td>Nasser, Mrs. Nicholas (Adele Achem)</td>\n",
       "      <td>female</td>\n",
       "      <td>14.0</td>\n",
       "      <td>1</td>\n",
       "      <td>0</td>\n",
       "      <td>237736</td>\n",
       "      <td>30.0708</td>\n",
       "      <td>NaN</td>\n",
       "      <td>C</td>\n",
       "    </tr>\n",
       "  </tbody>\n",
       "</table>\n",
       "</div>"
      ],
      "text/plain": [
       "   PassengerId  Survived  Pclass  \\\n",
       "0            1         0       3   \n",
       "1            2         1       1   \n",
       "2            3         1       3   \n",
       "3            4         1       1   \n",
       "4            5         0       3   \n",
       "5            6         0       3   \n",
       "6            7         0       1   \n",
       "7            8         0       3   \n",
       "8            9         1       3   \n",
       "9           10         1       2   \n",
       "\n",
       "                                                Name     Sex   Age  SibSp  \\\n",
       "0                            Braund, Mr. Owen Harris    male  22.0      1   \n",
       "1  Cumings, Mrs. John Bradley (Florence Briggs Th...  female  38.0      1   \n",
       "2                             Heikkinen, Miss. Laina  female  26.0      0   \n",
       "3       Futrelle, Mrs. Jacques Heath (Lily May Peel)  female  35.0      1   \n",
       "4                           Allen, Mr. William Henry    male  35.0      0   \n",
       "5                                   Moran, Mr. James    male   NaN      0   \n",
       "6                            McCarthy, Mr. Timothy J    male  54.0      0   \n",
       "7                     Palsson, Master. Gosta Leonard    male   2.0      3   \n",
       "8  Johnson, Mrs. Oscar W (Elisabeth Vilhelmina Berg)  female  27.0      0   \n",
       "9                Nasser, Mrs. Nicholas (Adele Achem)  female  14.0      1   \n",
       "\n",
       "   Parch            Ticket     Fare Cabin Embarked  \n",
       "0      0         A/5 21171   7.2500   NaN        S  \n",
       "1      0          PC 17599  71.2833   C85        C  \n",
       "2      0  STON/O2. 3101282   7.9250   NaN        S  \n",
       "3      0            113803  53.1000  C123        S  \n",
       "4      0            373450   8.0500   NaN        S  \n",
       "5      0            330877   8.4583   NaN        Q  \n",
       "6      0             17463  51.8625   E46        S  \n",
       "7      1            349909  21.0750   NaN        S  \n",
       "8      2            347742  11.1333   NaN        S  \n",
       "9      0            237736  30.0708   NaN        C  "
      ]
     },
     "execution_count": 2,
     "metadata": {},
     "output_type": "execute_result"
    }
   ],
   "source": [
    "train = pd.read_csv('train.csv', dtype={'Age': np.float64})\n",
    "test = pd.read_csv('test.csv', dtype={'Age': np.float64})\n",
    "train.head(10)"
   ]
  },
  {
   "cell_type": "code",
   "execution_count": 3,
   "metadata": {
    "collapsed": false
   },
   "outputs": [
    {
     "data": {
      "text/html": [
       "<div>\n",
       "<table border=\"1\" class=\"dataframe\">\n",
       "  <thead>\n",
       "    <tr style=\"text-align: right;\">\n",
       "      <th></th>\n",
       "      <th>PassengerId</th>\n",
       "      <th>Survived</th>\n",
       "      <th>Pclass</th>\n",
       "      <th>Age</th>\n",
       "      <th>SibSp</th>\n",
       "      <th>Parch</th>\n",
       "      <th>Fare</th>\n",
       "    </tr>\n",
       "  </thead>\n",
       "  <tbody>\n",
       "    <tr>\n",
       "      <th>PassengerId</th>\n",
       "      <td>1.000000</td>\n",
       "      <td>-0.005007</td>\n",
       "      <td>-0.035144</td>\n",
       "      <td>0.036847</td>\n",
       "      <td>-0.057527</td>\n",
       "      <td>-0.001652</td>\n",
       "      <td>0.012658</td>\n",
       "    </tr>\n",
       "    <tr>\n",
       "      <th>Survived</th>\n",
       "      <td>-0.005007</td>\n",
       "      <td>1.000000</td>\n",
       "      <td>-0.338481</td>\n",
       "      <td>-0.077221</td>\n",
       "      <td>-0.035322</td>\n",
       "      <td>0.081629</td>\n",
       "      <td>0.257307</td>\n",
       "    </tr>\n",
       "    <tr>\n",
       "      <th>Pclass</th>\n",
       "      <td>-0.035144</td>\n",
       "      <td>-0.338481</td>\n",
       "      <td>1.000000</td>\n",
       "      <td>-0.369226</td>\n",
       "      <td>0.083081</td>\n",
       "      <td>0.018443</td>\n",
       "      <td>-0.549500</td>\n",
       "    </tr>\n",
       "    <tr>\n",
       "      <th>Age</th>\n",
       "      <td>0.036847</td>\n",
       "      <td>-0.077221</td>\n",
       "      <td>-0.369226</td>\n",
       "      <td>1.000000</td>\n",
       "      <td>-0.308247</td>\n",
       "      <td>-0.189119</td>\n",
       "      <td>0.096067</td>\n",
       "    </tr>\n",
       "    <tr>\n",
       "      <th>SibSp</th>\n",
       "      <td>-0.057527</td>\n",
       "      <td>-0.035322</td>\n",
       "      <td>0.083081</td>\n",
       "      <td>-0.308247</td>\n",
       "      <td>1.000000</td>\n",
       "      <td>0.414838</td>\n",
       "      <td>0.159651</td>\n",
       "    </tr>\n",
       "    <tr>\n",
       "      <th>Parch</th>\n",
       "      <td>-0.001652</td>\n",
       "      <td>0.081629</td>\n",
       "      <td>0.018443</td>\n",
       "      <td>-0.189119</td>\n",
       "      <td>0.414838</td>\n",
       "      <td>1.000000</td>\n",
       "      <td>0.216225</td>\n",
       "    </tr>\n",
       "    <tr>\n",
       "      <th>Fare</th>\n",
       "      <td>0.012658</td>\n",
       "      <td>0.257307</td>\n",
       "      <td>-0.549500</td>\n",
       "      <td>0.096067</td>\n",
       "      <td>0.159651</td>\n",
       "      <td>0.216225</td>\n",
       "      <td>1.000000</td>\n",
       "    </tr>\n",
       "  </tbody>\n",
       "</table>\n",
       "</div>"
      ],
      "text/plain": [
       "             PassengerId  Survived    Pclass       Age     SibSp     Parch  \\\n",
       "PassengerId     1.000000 -0.005007 -0.035144  0.036847 -0.057527 -0.001652   \n",
       "Survived       -0.005007  1.000000 -0.338481 -0.077221 -0.035322  0.081629   \n",
       "Pclass         -0.035144 -0.338481  1.000000 -0.369226  0.083081  0.018443   \n",
       "Age             0.036847 -0.077221 -0.369226  1.000000 -0.308247 -0.189119   \n",
       "SibSp          -0.057527 -0.035322  0.083081 -0.308247  1.000000  0.414838   \n",
       "Parch          -0.001652  0.081629  0.018443 -0.189119  0.414838  1.000000   \n",
       "Fare            0.012658  0.257307 -0.549500  0.096067  0.159651  0.216225   \n",
       "\n",
       "                 Fare  \n",
       "PassengerId  0.012658  \n",
       "Survived     0.257307  \n",
       "Pclass      -0.549500  \n",
       "Age          0.096067  \n",
       "SibSp        0.159651  \n",
       "Parch        0.216225  \n",
       "Fare         1.000000  "
      ]
     },
     "execution_count": 3,
     "metadata": {},
     "output_type": "execute_result"
    }
   ],
   "source": [
    "train_corr = train.corr()\n",
    "train_corr"
   ]
  },
  {
   "cell_type": "code",
   "execution_count": 4,
   "metadata": {
    "collapsed": true
   },
   "outputs": [],
   "source": [
    "def correct_data(data):\n",
    "    data.Age = data.Age.fillna(data.Age.median())\n",
    "    data.Sex = data.Sex.replace(['male', 'female'], [0, 1])\n",
    "    data.Embarked = data.Embarked.fillna('S')\n",
    "    data.Embarked = data.Embarked.replace(['C', 'S', 'Q'], [0 ,1, 2])\n",
    "    data.Fare = data.Fare.fillna(data.Fare.median())\n",
    "    return data\n",
    "\n",
    "train_data = correct_data(train)\n",
    "test = correct_data(test)"
   ]
  },
  {
   "cell_type": "code",
   "execution_count": 5,
   "metadata": {
    "collapsed": false
   },
   "outputs": [
    {
     "data": {
      "text/html": [
       "<div>\n",
       "<table border=\"1\" class=\"dataframe\">\n",
       "  <thead>\n",
       "    <tr style=\"text-align: right;\">\n",
       "      <th></th>\n",
       "      <th>PassengerId</th>\n",
       "      <th>Survived</th>\n",
       "      <th>Pclass</th>\n",
       "      <th>Sex</th>\n",
       "      <th>Age</th>\n",
       "      <th>SibSp</th>\n",
       "      <th>Parch</th>\n",
       "      <th>Fare</th>\n",
       "      <th>Embarked</th>\n",
       "    </tr>\n",
       "  </thead>\n",
       "  <tbody>\n",
       "    <tr>\n",
       "      <th>PassengerId</th>\n",
       "      <td>1.000000</td>\n",
       "      <td>-0.005007</td>\n",
       "      <td>-0.035144</td>\n",
       "      <td>-0.042939</td>\n",
       "      <td>0.034212</td>\n",
       "      <td>-0.057527</td>\n",
       "      <td>-0.001652</td>\n",
       "      <td>0.012658</td>\n",
       "      <td>-0.017443</td>\n",
       "    </tr>\n",
       "    <tr>\n",
       "      <th>Survived</th>\n",
       "      <td>-0.005007</td>\n",
       "      <td>1.000000</td>\n",
       "      <td>-0.338481</td>\n",
       "      <td>0.543351</td>\n",
       "      <td>-0.064910</td>\n",
       "      <td>-0.035322</td>\n",
       "      <td>0.081629</td>\n",
       "      <td>0.257307</td>\n",
       "      <td>-0.125953</td>\n",
       "    </tr>\n",
       "    <tr>\n",
       "      <th>Pclass</th>\n",
       "      <td>-0.035144</td>\n",
       "      <td>-0.338481</td>\n",
       "      <td>1.000000</td>\n",
       "      <td>-0.131900</td>\n",
       "      <td>-0.339898</td>\n",
       "      <td>0.083081</td>\n",
       "      <td>0.018443</td>\n",
       "      <td>-0.549500</td>\n",
       "      <td>0.305762</td>\n",
       "    </tr>\n",
       "    <tr>\n",
       "      <th>Sex</th>\n",
       "      <td>-0.042939</td>\n",
       "      <td>0.543351</td>\n",
       "      <td>-0.131900</td>\n",
       "      <td>1.000000</td>\n",
       "      <td>-0.081163</td>\n",
       "      <td>0.114631</td>\n",
       "      <td>0.245489</td>\n",
       "      <td>0.182333</td>\n",
       "      <td>-0.022521</td>\n",
       "    </tr>\n",
       "    <tr>\n",
       "      <th>Age</th>\n",
       "      <td>0.034212</td>\n",
       "      <td>-0.064910</td>\n",
       "      <td>-0.339898</td>\n",
       "      <td>-0.081163</td>\n",
       "      <td>1.000000</td>\n",
       "      <td>-0.233296</td>\n",
       "      <td>-0.172482</td>\n",
       "      <td>0.096688</td>\n",
       "      <td>-0.040166</td>\n",
       "    </tr>\n",
       "    <tr>\n",
       "      <th>SibSp</th>\n",
       "      <td>-0.057527</td>\n",
       "      <td>-0.035322</td>\n",
       "      <td>0.083081</td>\n",
       "      <td>0.114631</td>\n",
       "      <td>-0.233296</td>\n",
       "      <td>1.000000</td>\n",
       "      <td>0.414838</td>\n",
       "      <td>0.159651</td>\n",
       "      <td>0.030874</td>\n",
       "    </tr>\n",
       "    <tr>\n",
       "      <th>Parch</th>\n",
       "      <td>-0.001652</td>\n",
       "      <td>0.081629</td>\n",
       "      <td>0.018443</td>\n",
       "      <td>0.245489</td>\n",
       "      <td>-0.172482</td>\n",
       "      <td>0.414838</td>\n",
       "      <td>1.000000</td>\n",
       "      <td>0.216225</td>\n",
       "      <td>-0.035957</td>\n",
       "    </tr>\n",
       "    <tr>\n",
       "      <th>Fare</th>\n",
       "      <td>0.012658</td>\n",
       "      <td>0.257307</td>\n",
       "      <td>-0.549500</td>\n",
       "      <td>0.182333</td>\n",
       "      <td>0.096688</td>\n",
       "      <td>0.159651</td>\n",
       "      <td>0.216225</td>\n",
       "      <td>1.000000</td>\n",
       "      <td>-0.268865</td>\n",
       "    </tr>\n",
       "    <tr>\n",
       "      <th>Embarked</th>\n",
       "      <td>-0.017443</td>\n",
       "      <td>-0.125953</td>\n",
       "      <td>0.305762</td>\n",
       "      <td>-0.022521</td>\n",
       "      <td>-0.040166</td>\n",
       "      <td>0.030874</td>\n",
       "      <td>-0.035957</td>\n",
       "      <td>-0.268865</td>\n",
       "      <td>1.000000</td>\n",
       "    </tr>\n",
       "  </tbody>\n",
       "</table>\n",
       "</div>"
      ],
      "text/plain": [
       "             PassengerId  Survived    Pclass       Sex       Age     SibSp  \\\n",
       "PassengerId     1.000000 -0.005007 -0.035144 -0.042939  0.034212 -0.057527   \n",
       "Survived       -0.005007  1.000000 -0.338481  0.543351 -0.064910 -0.035322   \n",
       "Pclass         -0.035144 -0.338481  1.000000 -0.131900 -0.339898  0.083081   \n",
       "Sex            -0.042939  0.543351 -0.131900  1.000000 -0.081163  0.114631   \n",
       "Age             0.034212 -0.064910 -0.339898 -0.081163  1.000000 -0.233296   \n",
       "SibSp          -0.057527 -0.035322  0.083081  0.114631 -0.233296  1.000000   \n",
       "Parch          -0.001652  0.081629  0.018443  0.245489 -0.172482  0.414838   \n",
       "Fare            0.012658  0.257307 -0.549500  0.182333  0.096688  0.159651   \n",
       "Embarked       -0.017443 -0.125953  0.305762 -0.022521 -0.040166  0.030874   \n",
       "\n",
       "                Parch      Fare  Embarked  \n",
       "PassengerId -0.001652  0.012658 -0.017443  \n",
       "Survived     0.081629  0.257307 -0.125953  \n",
       "Pclass       0.018443 -0.549500  0.305762  \n",
       "Sex          0.245489  0.182333 -0.022521  \n",
       "Age         -0.172482  0.096688 -0.040166  \n",
       "SibSp        0.414838  0.159651  0.030874  \n",
       "Parch        1.000000  0.216225 -0.035957  \n",
       "Fare         0.216225  1.000000 -0.268865  \n",
       "Embarked    -0.035957 -0.268865  1.000000  "
      ]
     },
     "execution_count": 5,
     "metadata": {},
     "output_type": "execute_result"
    }
   ],
   "source": [
    "train_corr = train.corr()\n",
    "train_corr"
   ]
  },
  {
   "cell_type": "code",
   "execution_count": 6,
   "metadata": {
    "collapsed": true
   },
   "outputs": [],
   "source": [
    "from sklearn.linear_model import LogisticRegression\n",
    "from sklearn.svm import SVC, LinearSVC\n",
    "from sklearn.neighbors import KNeighborsClassifier\n",
    "from sklearn.tree import DecisionTreeClassifier\n",
    "from sklearn.ensemble import RandomForestClassifier\n",
    "from sklearn.neural_network import MLPClassifier\n",
    "\n",
    "from sklearn.model_selection import cross_val_score"
   ]
  },
  {
   "cell_type": "code",
   "execution_count": 8,
   "metadata": {
    "collapsed": false
   },
   "outputs": [],
   "source": [
    "predictors = [\"Pclass\", \"Sex\", \"Age\", \"SibSp\", \"Parch\", \"Fare\", \"Embarked\"]\n",
    "models = [\n",
    "    ('LogisticRegression', LogisticRegression()),\n",
    "    ('SVC', SVC()),\n",
    "    ('LinearSVC', LinearSVC()),\n",
    "    ('KNeighbors', KNeighborsClassifier()),\n",
    "    ('DecisionTree', DecisionTreeClassifier()),\n",
    "    ('RandomForest', RandomForestClassifier()),\n",
    "    ('MLPClassifier', MLPClassifier(solver='lbfgs', random_state=0))\n",
    "]"
   ]
  },
  {
   "cell_type": "code",
   "execution_count": 9,
   "metadata": {
    "collapsed": true
   },
   "outputs": [],
   "source": [
    "results = []\n",
    "names = []\n",
    "for name, model in models:\n",
    "    result = cross_val_score(model, train_data[predictors], train_data['Survived'], cv=3)\n",
    "    names.append(name)\n",
    "    results.append(result)"
   ]
  },
  {
   "cell_type": "code",
   "execution_count": 10,
   "metadata": {
    "collapsed": false
   },
   "outputs": [
    {
     "name": "stdout",
     "output_type": "stream",
     "text": [
      "LogisticRegression 0.785634118967\n",
      "SVC 0.687991021324\n",
      "LinearSVC 0.744107744108\n",
      "KNeighbors 0.701459034792\n",
      "DecisionTree 0.760942760943\n",
      "RandomForest 0.791245791246\n",
      "MLPClassifier 0.781144781145\n"
     ]
    }
   ],
   "source": [
    "for i, name in enumerate(names):\n",
    "    print(name, results[i].mean())"
   ]
  },
  {
   "cell_type": "code",
   "execution_count": 11,
   "metadata": {
    "collapsed": false
   },
   "outputs": [
    {
     "name": "stderr",
     "output_type": "stream",
     "text": [
      "C:\\ProgramData\\Anaconda3\\lib\\site-packages\\sklearn\\cross_validation.py:44: DeprecationWarning: This module was deprecated in version 0.18 in favor of the model_selection module into which all the refactored classes and functions are moved. Also note that the interface of the new CV iterators are different from that of this module. This module will be removed in 0.20.\n",
      "  \"This module will be removed in 0.20.\", DeprecationWarning)\n",
      "C:\\ProgramData\\Anaconda3\\lib\\site-packages\\sklearn\\grid_search.py:43: DeprecationWarning: This module was deprecated in version 0.18 in favor of the model_selection module into which all the refactored classes and functions are moved. This module will be removed in 0.20.\n",
      "  DeprecationWarning)\n"
     ]
    }
   ],
   "source": [
    "from sklearn.grid_search import GridSearchCV\n",
    "\n",
    "parameters = {\n",
    "    'n_estimators': [5, 10, 20, 30, 50, 100, 300],\n",
    "    'max_depth': [3, 5, 10, 15, 20, 25, 30, 40, 50, 100],\n",
    "    'random_state': [0],\n",
    "}\n",
    "gsc = GridSearchCV(RandomForestClassifier(), parameters, cv=3)"
   ]
  },
  {
   "cell_type": "code",
   "execution_count": 12,
   "metadata": {
    "collapsed": false
   },
   "outputs": [
    {
     "data": {
      "text/plain": [
       "GridSearchCV(cv=3, error_score='raise',\n",
       "       estimator=RandomForestClassifier(bootstrap=True, class_weight=None, criterion='gini',\n",
       "            max_depth=None, max_features='auto', max_leaf_nodes=None,\n",
       "            min_impurity_split=1e-07, min_samples_leaf=1,\n",
       "            min_samples_split=2, min_weight_fraction_leaf=0.0,\n",
       "            n_estimators=10, n_jobs=1, oob_score=False, random_state=None,\n",
       "            verbose=0, warm_start=False),\n",
       "       fit_params={}, iid=True, n_jobs=1,\n",
       "       param_grid={'n_estimators': [5, 10, 20, 30, 50, 100, 300], 'max_depth': [3, 5, 10, 15, 20, 25, 30, 40, 50, 100], 'random_state': [0]},\n",
       "       pre_dispatch='2*n_jobs', refit=True, scoring=None, verbose=0)"
      ]
     },
     "execution_count": 12,
     "metadata": {},
     "output_type": "execute_result"
    }
   ],
   "source": [
    "gsc.fit(train_data[predictors], train_data['Survived'])"
   ]
  },
  {
   "cell_type": "code",
   "execution_count": 13,
   "metadata": {
    "collapsed": true
   },
   "outputs": [],
   "source": [
    "res = _"
   ]
  },
  {
   "cell_type": "code",
   "execution_count": 14,
   "metadata": {
    "collapsed": false
   },
   "outputs": [
    {
     "data": {
      "text/plain": [
       "GridSearchCV(cv=3, error_score='raise',\n",
       "       estimator=RandomForestClassifier(bootstrap=True, class_weight=None, criterion='gini',\n",
       "            max_depth=None, max_features='auto', max_leaf_nodes=None,\n",
       "            min_impurity_split=1e-07, min_samples_leaf=1,\n",
       "            min_samples_split=2, min_weight_fraction_leaf=0.0,\n",
       "            n_estimators=10, n_jobs=1, oob_score=False, random_state=None,\n",
       "            verbose=0, warm_start=False),\n",
       "       fit_params={}, iid=True, n_jobs=1,\n",
       "       param_grid={'n_estimators': [5, 10, 20, 30, 50, 100, 300], 'max_depth': [3, 5, 10, 15, 20, 25, 30, 40, 50, 100], 'random_state': [0]},\n",
       "       pre_dispatch='2*n_jobs', refit=True, scoring=None, verbose=0)"
      ]
     },
     "execution_count": 14,
     "metadata": {},
     "output_type": "execute_result"
    }
   ],
   "source": [
    "res"
   ]
  },
  {
   "cell_type": "code",
   "execution_count": 15,
   "metadata": {
    "collapsed": false
   },
   "outputs": [
    {
     "data": {
      "text/plain": [
       "sklearn.grid_search.GridSearchCV"
      ]
     },
     "execution_count": 15,
     "metadata": {},
     "output_type": "execute_result"
    }
   ],
   "source": [
    "type(res)"
   ]
  },
  {
   "cell_type": "code",
   "execution_count": 16,
   "metadata": {
    "collapsed": false,
    "scrolled": true
   },
   "outputs": [
    {
     "data": {
      "text/plain": [
       "[mean: 0.77329, std: 0.02370, params: {'max_depth': 3, 'n_estimators': 5, 'random_state': 0},\n",
       " mean: 0.79012, std: 0.02781, params: {'max_depth': 3, 'n_estimators': 10, 'random_state': 0},\n",
       " mean: 0.80471, std: 0.03434, params: {'max_depth': 3, 'n_estimators': 20, 'random_state': 0},\n",
       " mean: 0.79798, std: 0.02520, params: {'max_depth': 3, 'n_estimators': 30, 'random_state': 0},\n",
       " mean: 0.81145, std: 0.03170, params: {'max_depth': 3, 'n_estimators': 50, 'random_state': 0},\n",
       " mean: 0.80696, std: 0.02402, params: {'max_depth': 3, 'n_estimators': 100, 'random_state': 0},\n",
       " mean: 0.80247, std: 0.02914, params: {'max_depth': 3, 'n_estimators': 300, 'random_state': 0},\n",
       " mean: 0.80247, std: 0.02402, params: {'max_depth': 5, 'n_estimators': 5, 'random_state': 0},\n",
       " mean: 0.81594, std: 0.02822, params: {'max_depth': 5, 'n_estimators': 10, 'random_state': 0},\n",
       " mean: 0.81818, std: 0.02790, params: {'max_depth': 5, 'n_estimators': 20, 'random_state': 0},\n",
       " mean: 0.81706, std: 0.02464, params: {'max_depth': 5, 'n_estimators': 30, 'random_state': 0},\n",
       " mean: 0.81706, std: 0.01767, params: {'max_depth': 5, 'n_estimators': 50, 'random_state': 0},\n",
       " mean: 0.81369, std: 0.01931, params: {'max_depth': 5, 'n_estimators': 100, 'random_state': 0},\n",
       " mean: 0.81369, std: 0.01871, params: {'max_depth': 5, 'n_estimators': 300, 'random_state': 0},\n",
       " mean: 0.80135, std: 0.01924, params: {'max_depth': 10, 'n_estimators': 5, 'random_state': 0},\n",
       " mean: 0.79461, std: 0.00550, params: {'max_depth': 10, 'n_estimators': 10, 'random_state': 0},\n",
       " mean: 0.80359, std: 0.01950, params: {'max_depth': 10, 'n_estimators': 20, 'random_state': 0},\n",
       " mean: 0.80584, std: 0.02370, params: {'max_depth': 10, 'n_estimators': 30, 'random_state': 0},\n",
       " mean: 0.81369, std: 0.02598, params: {'max_depth': 10, 'n_estimators': 50, 'random_state': 0},\n",
       " mean: 0.82155, std: 0.01924, params: {'max_depth': 10, 'n_estimators': 100, 'random_state': 0},\n",
       " mean: 0.82379, std: 0.02082, params: {'max_depth': 10, 'n_estimators': 300, 'random_state': 0},\n",
       " mean: 0.78451, std: 0.01672, params: {'max_depth': 15, 'n_estimators': 5, 'random_state': 0},\n",
       " mean: 0.78900, std: 0.01270, params: {'max_depth': 15, 'n_estimators': 10, 'random_state': 0},\n",
       " mean: 0.79798, std: 0.02147, params: {'max_depth': 15, 'n_estimators': 20, 'random_state': 0},\n",
       " mean: 0.79798, std: 0.02182, params: {'max_depth': 15, 'n_estimators': 30, 'random_state': 0},\n",
       " mean: 0.80135, std: 0.02443, params: {'max_depth': 15, 'n_estimators': 50, 'random_state': 0},\n",
       " mean: 0.80022, std: 0.02306, params: {'max_depth': 15, 'n_estimators': 100, 'random_state': 0},\n",
       " mean: 0.80135, std: 0.01717, params: {'max_depth': 15, 'n_estimators': 300, 'random_state': 0},\n",
       " mean: 0.77441, std: 0.01198, params: {'max_depth': 20, 'n_estimators': 5, 'random_state': 0},\n",
       " mean: 0.79012, std: 0.01950, params: {'max_depth': 20, 'n_estimators': 10, 'random_state': 0},\n",
       " mean: 0.79349, std: 0.01411, params: {'max_depth': 20, 'n_estimators': 20, 'random_state': 0},\n",
       " mean: 0.80247, std: 0.02754, params: {'max_depth': 20, 'n_estimators': 30, 'random_state': 0},\n",
       " mean: 0.79798, std: 0.02076, params: {'max_depth': 20, 'n_estimators': 50, 'random_state': 0},\n",
       " mean: 0.79349, std: 0.01871, params: {'max_depth': 20, 'n_estimators': 100, 'random_state': 0},\n",
       " mean: 0.79686, std: 0.01657, params: {'max_depth': 20, 'n_estimators': 300, 'random_state': 0},\n",
       " mean: 0.77441, std: 0.01198, params: {'max_depth': 25, 'n_estimators': 5, 'random_state': 0},\n",
       " mean: 0.79012, std: 0.01871, params: {'max_depth': 25, 'n_estimators': 10, 'random_state': 0},\n",
       " mean: 0.79237, std: 0.01299, params: {'max_depth': 25, 'n_estimators': 20, 'random_state': 0},\n",
       " mean: 0.79910, std: 0.02370, params: {'max_depth': 25, 'n_estimators': 30, 'random_state': 0},\n",
       " mean: 0.80022, std: 0.02205, params: {'max_depth': 25, 'n_estimators': 50, 'random_state': 0},\n",
       " mean: 0.79574, std: 0.01830, params: {'max_depth': 25, 'n_estimators': 100, 'random_state': 0},\n",
       " mean: 0.79798, std: 0.01649, params: {'max_depth': 25, 'n_estimators': 300, 'random_state': 0},\n",
       " mean: 0.77441, std: 0.01198, params: {'max_depth': 30, 'n_estimators': 5, 'random_state': 0},\n",
       " mean: 0.79012, std: 0.01871, params: {'max_depth': 30, 'n_estimators': 10, 'random_state': 0},\n",
       " mean: 0.79237, std: 0.01299, params: {'max_depth': 30, 'n_estimators': 20, 'random_state': 0},\n",
       " mean: 0.79910, std: 0.02370, params: {'max_depth': 30, 'n_estimators': 30, 'random_state': 0},\n",
       " mean: 0.80022, std: 0.02205, params: {'max_depth': 30, 'n_estimators': 50, 'random_state': 0},\n",
       " mean: 0.79574, std: 0.01830, params: {'max_depth': 30, 'n_estimators': 100, 'random_state': 0},\n",
       " mean: 0.79798, std: 0.01649, params: {'max_depth': 30, 'n_estimators': 300, 'random_state': 0},\n",
       " mean: 0.77441, std: 0.01198, params: {'max_depth': 40, 'n_estimators': 5, 'random_state': 0},\n",
       " mean: 0.79012, std: 0.01871, params: {'max_depth': 40, 'n_estimators': 10, 'random_state': 0},\n",
       " mean: 0.79237, std: 0.01299, params: {'max_depth': 40, 'n_estimators': 20, 'random_state': 0},\n",
       " mean: 0.79910, std: 0.02370, params: {'max_depth': 40, 'n_estimators': 30, 'random_state': 0},\n",
       " mean: 0.80022, std: 0.02205, params: {'max_depth': 40, 'n_estimators': 50, 'random_state': 0},\n",
       " mean: 0.79574, std: 0.01830, params: {'max_depth': 40, 'n_estimators': 100, 'random_state': 0},\n",
       " mean: 0.79798, std: 0.01649, params: {'max_depth': 40, 'n_estimators': 300, 'random_state': 0},\n",
       " mean: 0.77441, std: 0.01198, params: {'max_depth': 50, 'n_estimators': 5, 'random_state': 0},\n",
       " mean: 0.79012, std: 0.01871, params: {'max_depth': 50, 'n_estimators': 10, 'random_state': 0},\n",
       " mean: 0.79237, std: 0.01299, params: {'max_depth': 50, 'n_estimators': 20, 'random_state': 0},\n",
       " mean: 0.79910, std: 0.02370, params: {'max_depth': 50, 'n_estimators': 30, 'random_state': 0},\n",
       " mean: 0.80022, std: 0.02205, params: {'max_depth': 50, 'n_estimators': 50, 'random_state': 0},\n",
       " mean: 0.79574, std: 0.01830, params: {'max_depth': 50, 'n_estimators': 100, 'random_state': 0},\n",
       " mean: 0.79798, std: 0.01649, params: {'max_depth': 50, 'n_estimators': 300, 'random_state': 0},\n",
       " mean: 0.77441, std: 0.01198, params: {'max_depth': 100, 'n_estimators': 5, 'random_state': 0},\n",
       " mean: 0.79012, std: 0.01871, params: {'max_depth': 100, 'n_estimators': 10, 'random_state': 0},\n",
       " mean: 0.79237, std: 0.01299, params: {'max_depth': 100, 'n_estimators': 20, 'random_state': 0},\n",
       " mean: 0.79910, std: 0.02370, params: {'max_depth': 100, 'n_estimators': 30, 'random_state': 0},\n",
       " mean: 0.80022, std: 0.02205, params: {'max_depth': 100, 'n_estimators': 50, 'random_state': 0},\n",
       " mean: 0.79574, std: 0.01830, params: {'max_depth': 100, 'n_estimators': 100, 'random_state': 0},\n",
       " mean: 0.79798, std: 0.01649, params: {'max_depth': 100, 'n_estimators': 300, 'random_state': 0}]"
      ]
     },
     "execution_count": 16,
     "metadata": {},
     "output_type": "execute_result"
    }
   ],
   "source": [
    "gsc.grid_scores_"
   ]
  },
  {
   "cell_type": "code",
   "execution_count": 17,
   "metadata": {
    "collapsed": false
   },
   "outputs": [
    {
     "data": {
      "text/plain": [
       "{'max_depth': 10, 'n_estimators': 300, 'random_state': 0}"
      ]
     },
     "execution_count": 17,
     "metadata": {},
     "output_type": "execute_result"
    }
   ],
   "source": [
    "gsc.best_params_"
   ]
  },
  {
   "cell_type": "code",
   "execution_count": 20,
   "metadata": {
    "collapsed": false
   },
   "outputs": [],
   "source": [
    "predictions = gsc.predict(test[predictors])\n",
    "submission = pd.DataFrame({\n",
    "    'PassengerId': test['PassengerId'],\n",
    "    'Survived': predictions\n",
    "})\n",
    "submission.to_csv('submission.csv', index=False)"
   ]
  },
  {
   "cell_type": "code",
   "execution_count": 21,
   "metadata": {
    "collapsed": false
   },
   "outputs": [
    {
     "data": {
      "text/html": [
       "<div>\n",
       "<table border=\"1\" class=\"dataframe\">\n",
       "  <thead>\n",
       "    <tr style=\"text-align: right;\">\n",
       "      <th></th>\n",
       "      <th>PassengerId</th>\n",
       "      <th>Survived</th>\n",
       "    </tr>\n",
       "  </thead>\n",
       "  <tbody>\n",
       "    <tr>\n",
       "      <th>0</th>\n",
       "      <td>892</td>\n",
       "      <td>0</td>\n",
       "    </tr>\n",
       "    <tr>\n",
       "      <th>1</th>\n",
       "      <td>893</td>\n",
       "      <td>0</td>\n",
       "    </tr>\n",
       "    <tr>\n",
       "      <th>2</th>\n",
       "      <td>894</td>\n",
       "      <td>0</td>\n",
       "    </tr>\n",
       "    <tr>\n",
       "      <th>3</th>\n",
       "      <td>895</td>\n",
       "      <td>0</td>\n",
       "    </tr>\n",
       "    <tr>\n",
       "      <th>4</th>\n",
       "      <td>896</td>\n",
       "      <td>0</td>\n",
       "    </tr>\n",
       "    <tr>\n",
       "      <th>5</th>\n",
       "      <td>897</td>\n",
       "      <td>0</td>\n",
       "    </tr>\n",
       "    <tr>\n",
       "      <th>6</th>\n",
       "      <td>898</td>\n",
       "      <td>0</td>\n",
       "    </tr>\n",
       "    <tr>\n",
       "      <th>7</th>\n",
       "      <td>899</td>\n",
       "      <td>0</td>\n",
       "    </tr>\n",
       "    <tr>\n",
       "      <th>8</th>\n",
       "      <td>900</td>\n",
       "      <td>1</td>\n",
       "    </tr>\n",
       "    <tr>\n",
       "      <th>9</th>\n",
       "      <td>901</td>\n",
       "      <td>0</td>\n",
       "    </tr>\n",
       "    <tr>\n",
       "      <th>10</th>\n",
       "      <td>902</td>\n",
       "      <td>0</td>\n",
       "    </tr>\n",
       "    <tr>\n",
       "      <th>11</th>\n",
       "      <td>903</td>\n",
       "      <td>0</td>\n",
       "    </tr>\n",
       "    <tr>\n",
       "      <th>12</th>\n",
       "      <td>904</td>\n",
       "      <td>1</td>\n",
       "    </tr>\n",
       "    <tr>\n",
       "      <th>13</th>\n",
       "      <td>905</td>\n",
       "      <td>0</td>\n",
       "    </tr>\n",
       "    <tr>\n",
       "      <th>14</th>\n",
       "      <td>906</td>\n",
       "      <td>1</td>\n",
       "    </tr>\n",
       "    <tr>\n",
       "      <th>15</th>\n",
       "      <td>907</td>\n",
       "      <td>1</td>\n",
       "    </tr>\n",
       "    <tr>\n",
       "      <th>16</th>\n",
       "      <td>908</td>\n",
       "      <td>0</td>\n",
       "    </tr>\n",
       "    <tr>\n",
       "      <th>17</th>\n",
       "      <td>909</td>\n",
       "      <td>0</td>\n",
       "    </tr>\n",
       "    <tr>\n",
       "      <th>18</th>\n",
       "      <td>910</td>\n",
       "      <td>0</td>\n",
       "    </tr>\n",
       "    <tr>\n",
       "      <th>19</th>\n",
       "      <td>911</td>\n",
       "      <td>0</td>\n",
       "    </tr>\n",
       "    <tr>\n",
       "      <th>20</th>\n",
       "      <td>912</td>\n",
       "      <td>1</td>\n",
       "    </tr>\n",
       "    <tr>\n",
       "      <th>21</th>\n",
       "      <td>913</td>\n",
       "      <td>1</td>\n",
       "    </tr>\n",
       "    <tr>\n",
       "      <th>22</th>\n",
       "      <td>914</td>\n",
       "      <td>1</td>\n",
       "    </tr>\n",
       "    <tr>\n",
       "      <th>23</th>\n",
       "      <td>915</td>\n",
       "      <td>1</td>\n",
       "    </tr>\n",
       "    <tr>\n",
       "      <th>24</th>\n",
       "      <td>916</td>\n",
       "      <td>1</td>\n",
       "    </tr>\n",
       "    <tr>\n",
       "      <th>25</th>\n",
       "      <td>917</td>\n",
       "      <td>0</td>\n",
       "    </tr>\n",
       "    <tr>\n",
       "      <th>26</th>\n",
       "      <td>918</td>\n",
       "      <td>1</td>\n",
       "    </tr>\n",
       "    <tr>\n",
       "      <th>27</th>\n",
       "      <td>919</td>\n",
       "      <td>0</td>\n",
       "    </tr>\n",
       "    <tr>\n",
       "      <th>28</th>\n",
       "      <td>920</td>\n",
       "      <td>1</td>\n",
       "    </tr>\n",
       "    <tr>\n",
       "      <th>29</th>\n",
       "      <td>921</td>\n",
       "      <td>0</td>\n",
       "    </tr>\n",
       "    <tr>\n",
       "      <th>...</th>\n",
       "      <td>...</td>\n",
       "      <td>...</td>\n",
       "    </tr>\n",
       "    <tr>\n",
       "      <th>388</th>\n",
       "      <td>1280</td>\n",
       "      <td>0</td>\n",
       "    </tr>\n",
       "    <tr>\n",
       "      <th>389</th>\n",
       "      <td>1281</td>\n",
       "      <td>0</td>\n",
       "    </tr>\n",
       "    <tr>\n",
       "      <th>390</th>\n",
       "      <td>1282</td>\n",
       "      <td>0</td>\n",
       "    </tr>\n",
       "    <tr>\n",
       "      <th>391</th>\n",
       "      <td>1283</td>\n",
       "      <td>1</td>\n",
       "    </tr>\n",
       "    <tr>\n",
       "      <th>392</th>\n",
       "      <td>1284</td>\n",
       "      <td>0</td>\n",
       "    </tr>\n",
       "    <tr>\n",
       "      <th>393</th>\n",
       "      <td>1285</td>\n",
       "      <td>0</td>\n",
       "    </tr>\n",
       "    <tr>\n",
       "      <th>394</th>\n",
       "      <td>1286</td>\n",
       "      <td>0</td>\n",
       "    </tr>\n",
       "    <tr>\n",
       "      <th>395</th>\n",
       "      <td>1287</td>\n",
       "      <td>1</td>\n",
       "    </tr>\n",
       "    <tr>\n",
       "      <th>396</th>\n",
       "      <td>1288</td>\n",
       "      <td>0</td>\n",
       "    </tr>\n",
       "    <tr>\n",
       "      <th>397</th>\n",
       "      <td>1289</td>\n",
       "      <td>1</td>\n",
       "    </tr>\n",
       "    <tr>\n",
       "      <th>398</th>\n",
       "      <td>1290</td>\n",
       "      <td>0</td>\n",
       "    </tr>\n",
       "    <tr>\n",
       "      <th>399</th>\n",
       "      <td>1291</td>\n",
       "      <td>0</td>\n",
       "    </tr>\n",
       "    <tr>\n",
       "      <th>400</th>\n",
       "      <td>1292</td>\n",
       "      <td>1</td>\n",
       "    </tr>\n",
       "    <tr>\n",
       "      <th>401</th>\n",
       "      <td>1293</td>\n",
       "      <td>0</td>\n",
       "    </tr>\n",
       "    <tr>\n",
       "      <th>402</th>\n",
       "      <td>1294</td>\n",
       "      <td>1</td>\n",
       "    </tr>\n",
       "    <tr>\n",
       "      <th>403</th>\n",
       "      <td>1295</td>\n",
       "      <td>0</td>\n",
       "    </tr>\n",
       "    <tr>\n",
       "      <th>404</th>\n",
       "      <td>1296</td>\n",
       "      <td>0</td>\n",
       "    </tr>\n",
       "    <tr>\n",
       "      <th>405</th>\n",
       "      <td>1297</td>\n",
       "      <td>0</td>\n",
       "    </tr>\n",
       "    <tr>\n",
       "      <th>406</th>\n",
       "      <td>1298</td>\n",
       "      <td>0</td>\n",
       "    </tr>\n",
       "    <tr>\n",
       "      <th>407</th>\n",
       "      <td>1299</td>\n",
       "      <td>0</td>\n",
       "    </tr>\n",
       "    <tr>\n",
       "      <th>408</th>\n",
       "      <td>1300</td>\n",
       "      <td>1</td>\n",
       "    </tr>\n",
       "    <tr>\n",
       "      <th>409</th>\n",
       "      <td>1301</td>\n",
       "      <td>1</td>\n",
       "    </tr>\n",
       "    <tr>\n",
       "      <th>410</th>\n",
       "      <td>1302</td>\n",
       "      <td>1</td>\n",
       "    </tr>\n",
       "    <tr>\n",
       "      <th>411</th>\n",
       "      <td>1303</td>\n",
       "      <td>1</td>\n",
       "    </tr>\n",
       "    <tr>\n",
       "      <th>412</th>\n",
       "      <td>1304</td>\n",
       "      <td>0</td>\n",
       "    </tr>\n",
       "    <tr>\n",
       "      <th>413</th>\n",
       "      <td>1305</td>\n",
       "      <td>0</td>\n",
       "    </tr>\n",
       "    <tr>\n",
       "      <th>414</th>\n",
       "      <td>1306</td>\n",
       "      <td>1</td>\n",
       "    </tr>\n",
       "    <tr>\n",
       "      <th>415</th>\n",
       "      <td>1307</td>\n",
       "      <td>0</td>\n",
       "    </tr>\n",
       "    <tr>\n",
       "      <th>416</th>\n",
       "      <td>1308</td>\n",
       "      <td>0</td>\n",
       "    </tr>\n",
       "    <tr>\n",
       "      <th>417</th>\n",
       "      <td>1309</td>\n",
       "      <td>1</td>\n",
       "    </tr>\n",
       "  </tbody>\n",
       "</table>\n",
       "<p>418 rows × 2 columns</p>\n",
       "</div>"
      ],
      "text/plain": [
       "     PassengerId  Survived\n",
       "0            892         0\n",
       "1            893         0\n",
       "2            894         0\n",
       "3            895         0\n",
       "4            896         0\n",
       "5            897         0\n",
       "6            898         0\n",
       "7            899         0\n",
       "8            900         1\n",
       "9            901         0\n",
       "10           902         0\n",
       "11           903         0\n",
       "12           904         1\n",
       "13           905         0\n",
       "14           906         1\n",
       "15           907         1\n",
       "16           908         0\n",
       "17           909         0\n",
       "18           910         0\n",
       "19           911         0\n",
       "20           912         1\n",
       "21           913         1\n",
       "22           914         1\n",
       "23           915         1\n",
       "24           916         1\n",
       "25           917         0\n",
       "26           918         1\n",
       "27           919         0\n",
       "28           920         1\n",
       "29           921         0\n",
       "..           ...       ...\n",
       "388         1280         0\n",
       "389         1281         0\n",
       "390         1282         0\n",
       "391         1283         1\n",
       "392         1284         0\n",
       "393         1285         0\n",
       "394         1286         0\n",
       "395         1287         1\n",
       "396         1288         0\n",
       "397         1289         1\n",
       "398         1290         0\n",
       "399         1291         0\n",
       "400         1292         1\n",
       "401         1293         0\n",
       "402         1294         1\n",
       "403         1295         0\n",
       "404         1296         0\n",
       "405         1297         0\n",
       "406         1298         0\n",
       "407         1299         0\n",
       "408         1300         1\n",
       "409         1301         1\n",
       "410         1302         1\n",
       "411         1303         1\n",
       "412         1304         0\n",
       "413         1305         0\n",
       "414         1306         1\n",
       "415         1307         0\n",
       "416         1308         0\n",
       "417         1309         1\n",
       "\n",
       "[418 rows x 2 columns]"
      ]
     },
     "execution_count": 21,
     "metadata": {},
     "output_type": "execute_result"
    }
   ],
   "source": [
    "submission"
   ]
  },
  {
   "cell_type": "code",
   "execution_count": 24,
   "metadata": {
    "collapsed": false
   },
   "outputs": [
    {
     "data": {
      "text/plain": [
       "Sex  Survived\n",
       "0    0           468\n",
       "     1           109\n",
       "1    0            81\n",
       "     1           233\n",
       "dtype: int64"
      ]
     },
     "execution_count": 24,
     "metadata": {},
     "output_type": "execute_result"
    }
   ],
   "source": [
    "train.groupby(['Sex', 'Survived']).size()"
   ]
  },
  {
   "cell_type": "code",
   "execution_count": 26,
   "metadata": {
    "collapsed": false
   },
   "outputs": [
    {
     "data": {
      "text/plain": [
       "0.7867564534231201"
      ]
     },
     "execution_count": 26,
     "metadata": {},
     "output_type": "execute_result"
    }
   ],
   "source": [
    "train[train.Sex == train.Survived].shape[0] / train.shape[0]"
   ]
  },
  {
   "cell_type": "code",
   "execution_count": 27,
   "metadata": {
    "collapsed": true
   },
   "outputs": [],
   "source": [
    "pd.DataFrame({\n",
    "    'PassengerId': test['PassengerId'],\n",
    "    'Survived': test['Sex']\n",
    "}).to_csv('submission_only_sex.csv', index=False)"
   ]
  },
  {
   "cell_type": "code",
   "execution_count": 28,
   "metadata": {
    "collapsed": true
   },
   "outputs": [],
   "source": [
    "import xgboost as xgb"
   ]
  },
  {
   "cell_type": "code",
   "execution_count": 34,
   "metadata": {
    "collapsed": false
   },
   "outputs": [
    {
     "data": {
      "text/plain": [
       "XGBClassifier(base_score=0.5, booster='gbtree', colsample_bylevel=1,\n",
       "       colsample_bytree=1, gamma=0, learning_rate=0.1, max_delta_step=0,\n",
       "       max_depth=3, min_child_weight=1, missing=None, n_estimators=100,\n",
       "       n_jobs=1, nthread=None, objective='binary:logistic', random_state=0,\n",
       "       reg_alpha=0, reg_lambda=1, scale_pos_weight=1, seed=None,\n",
       "       silent=True, subsample=1)"
      ]
     },
     "execution_count": 34,
     "metadata": {},
     "output_type": "execute_result"
    }
   ],
   "source": [
    "mod = xgb.XGBClassifier()\n",
    "mod.fit(train_data[predictors], train_data['Survived'])"
   ]
  },
  {
   "cell_type": "code",
   "execution_count": 36,
   "metadata": {
    "collapsed": false
   },
   "outputs": [
    {
     "data": {
      "text/plain": [
       "array([ 0.79124579,  0.82154882,  0.83164983])"
      ]
     },
     "execution_count": 36,
     "metadata": {},
     "output_type": "execute_result"
    }
   ],
   "source": [
    "result = cross_val_score(xgb.XGBClassifier(), train_data[predictors], train_data['Survived'], cv=3)\n",
    "result"
   ]
  },
  {
   "cell_type": "code",
   "execution_count": 37,
   "metadata": {
    "collapsed": false
   },
   "outputs": [
    {
     "data": {
      "text/plain": [
       "0.81481481481481488"
      ]
     },
     "execution_count": 37,
     "metadata": {},
     "output_type": "execute_result"
    }
   ],
   "source": [
    "result.mean()"
   ]
  },
  {
   "cell_type": "code",
   "execution_count": 38,
   "metadata": {
    "collapsed": false
   },
   "outputs": [
    {
     "data": {
      "text/plain": [
       "GridSearchCV(cv=3, error_score='raise',\n",
       "       estimator=XGBClassifier(base_score=0.5, booster='gbtree', colsample_bylevel=1,\n",
       "       colsample_bytree=1, gamma=0, learning_rate=0.1, max_delta_step=0,\n",
       "       max_depth=3, min_child_weight=1, missing=None, n_estimators=100,\n",
       "       n_jobs=1, nthread=None, objective='binary:logistic', random_state=0,\n",
       "       reg_alpha=0, reg_lambda=1, scale_pos_weight=1, seed=None,\n",
       "       silent=True, subsample=1),\n",
       "       fit_params={}, iid=True, n_jobs=1,\n",
       "       param_grid={'max_depth': [3, 5, 10, 100], 'learning_rate': [0.05, 0.1], 'subsample': [0.8, 0.85, 0.9, 0.95], 'colsample_bytree': [0.5, 1.0]},\n",
       "       pre_dispatch='2*n_jobs', refit=True, scoring=None, verbose=0)"
      ]
     },
     "execution_count": 38,
     "metadata": {},
     "output_type": "execute_result"
    }
   ],
   "source": [
    "params = {\n",
    "    'max_depth': [3, 5, 10],\n",
    "    'learning_rate': [0.05, 0.1],\n",
    "    'max_depth': [3, 5, 10, 100],\n",
    "    'subsample': [0.8, 0.85, 0.9, 0.95],\n",
    "    'colsample_bytree': [0.5, 1.0]\n",
    "}\n",
    "cv = GridSearchCV(xgb.XGBClassifier(), params, cv=3)\n",
    "cv.fit(train_data[predictors], train_data['Survived'])"
   ]
  },
  {
   "cell_type": "code",
   "execution_count": 39,
   "metadata": {
    "collapsed": false
   },
   "outputs": [
    {
     "data": {
      "text/plain": [
       "[mean: 0.81033, std: 0.01789, params: {'colsample_bytree': 0.5, 'learning_rate': 0.05, 'max_depth': 3, 'subsample': 0.8},\n",
       " mean: 0.80584, std: 0.01789, params: {'colsample_bytree': 0.5, 'learning_rate': 0.05, 'max_depth': 3, 'subsample': 0.85},\n",
       " mean: 0.80920, std: 0.01931, params: {'colsample_bytree': 0.5, 'learning_rate': 0.05, 'max_depth': 3, 'subsample': 0.9},\n",
       " mean: 0.81033, std: 0.01680, params: {'colsample_bytree': 0.5, 'learning_rate': 0.05, 'max_depth': 3, 'subsample': 0.95},\n",
       " mean: 0.81818, std: 0.02520, params: {'colsample_bytree': 0.5, 'learning_rate': 0.05, 'max_depth': 5, 'subsample': 0.8},\n",
       " mean: 0.81818, std: 0.02250, params: {'colsample_bytree': 0.5, 'learning_rate': 0.05, 'max_depth': 5, 'subsample': 0.85},\n",
       " mean: 0.81033, std: 0.02338, params: {'colsample_bytree': 0.5, 'learning_rate': 0.05, 'max_depth': 5, 'subsample': 0.9},\n",
       " mean: 0.81706, std: 0.02670, params: {'colsample_bytree': 0.5, 'learning_rate': 0.05, 'max_depth': 5, 'subsample': 0.95},\n",
       " mean: 0.82604, std: 0.02642, params: {'colsample_bytree': 0.5, 'learning_rate': 0.05, 'max_depth': 10, 'subsample': 0.8},\n",
       " mean: 0.82267, std: 0.02642, params: {'colsample_bytree': 0.5, 'learning_rate': 0.05, 'max_depth': 10, 'subsample': 0.85},\n",
       " mean: 0.82267, std: 0.02370, params: {'colsample_bytree': 0.5, 'learning_rate': 0.05, 'max_depth': 10, 'subsample': 0.9},\n",
       " mean: 0.81818, std: 0.02147, params: {'colsample_bytree': 0.5, 'learning_rate': 0.05, 'max_depth': 10, 'subsample': 0.95},\n",
       " mean: 0.82604, std: 0.02642, params: {'colsample_bytree': 0.5, 'learning_rate': 0.05, 'max_depth': 100, 'subsample': 0.8},\n",
       " mean: 0.82379, std: 0.02670, params: {'colsample_bytree': 0.5, 'learning_rate': 0.05, 'max_depth': 100, 'subsample': 0.85},\n",
       " mean: 0.81930, std: 0.02554, params: {'colsample_bytree': 0.5, 'learning_rate': 0.05, 'max_depth': 100, 'subsample': 0.9},\n",
       " mean: 0.81594, std: 0.02289, params: {'colsample_bytree': 0.5, 'learning_rate': 0.05, 'max_depth': 100, 'subsample': 0.95},\n",
       " mean: 0.81481, std: 0.01803, params: {'colsample_bytree': 0.5, 'learning_rate': 0.1, 'max_depth': 3, 'subsample': 0.8},\n",
       " mean: 0.81033, std: 0.01411, params: {'colsample_bytree': 0.5, 'learning_rate': 0.1, 'max_depth': 3, 'subsample': 0.85},\n",
       " mean: 0.81706, std: 0.01950, params: {'colsample_bytree': 0.5, 'learning_rate': 0.1, 'max_depth': 3, 'subsample': 0.9},\n",
       " mean: 0.81594, std: 0.01563, params: {'colsample_bytree': 0.5, 'learning_rate': 0.1, 'max_depth': 3, 'subsample': 0.95},\n",
       " mean: 0.82492, std: 0.02443, params: {'colsample_bytree': 0.5, 'learning_rate': 0.1, 'max_depth': 5, 'subsample': 0.8},\n",
       " mean: 0.82604, std: 0.02370, params: {'colsample_bytree': 0.5, 'learning_rate': 0.1, 'max_depth': 5, 'subsample': 0.85},\n",
       " mean: 0.82716, std: 0.02402, params: {'colsample_bytree': 0.5, 'learning_rate': 0.1, 'max_depth': 5, 'subsample': 0.9},\n",
       " mean: 0.81706, std: 0.02781, params: {'colsample_bytree': 0.5, 'learning_rate': 0.1, 'max_depth': 5, 'subsample': 0.95},\n",
       " mean: 0.81930, std: 0.01989, params: {'colsample_bytree': 0.5, 'learning_rate': 0.1, 'max_depth': 10, 'subsample': 0.8},\n",
       " mean: 0.82379, std: 0.03028, params: {'colsample_bytree': 0.5, 'learning_rate': 0.1, 'max_depth': 10, 'subsample': 0.85},\n",
       " mean: 0.81481, std: 0.01924, params: {'colsample_bytree': 0.5, 'learning_rate': 0.1, 'max_depth': 10, 'subsample': 0.9},\n",
       " mean: 0.81706, std: 0.02082, params: {'colsample_bytree': 0.5, 'learning_rate': 0.1, 'max_depth': 10, 'subsample': 0.95},\n",
       " mean: 0.82155, std: 0.01924, params: {'colsample_bytree': 0.5, 'learning_rate': 0.1, 'max_depth': 100, 'subsample': 0.8},\n",
       " mean: 0.81930, std: 0.02464, params: {'colsample_bytree': 0.5, 'learning_rate': 0.1, 'max_depth': 100, 'subsample': 0.85},\n",
       " mean: 0.81818, std: 0.01905, params: {'colsample_bytree': 0.5, 'learning_rate': 0.1, 'max_depth': 100, 'subsample': 0.9},\n",
       " mean: 0.81818, std: 0.01924, params: {'colsample_bytree': 0.5, 'learning_rate': 0.1, 'max_depth': 100, 'subsample': 0.95},\n",
       " mean: 0.80808, std: 0.00991, params: {'colsample_bytree': 1.0, 'learning_rate': 0.05, 'max_depth': 3, 'subsample': 0.8},\n",
       " mean: 0.80584, std: 0.01767, params: {'colsample_bytree': 1.0, 'learning_rate': 0.05, 'max_depth': 3, 'subsample': 0.85},\n",
       " mean: 0.81033, std: 0.00692, params: {'colsample_bytree': 1.0, 'learning_rate': 0.05, 'max_depth': 3, 'subsample': 0.9},\n",
       " mean: 0.80808, std: 0.01260, params: {'colsample_bytree': 1.0, 'learning_rate': 0.05, 'max_depth': 3, 'subsample': 0.95},\n",
       " mean: 0.82379, std: 0.02402, params: {'colsample_bytree': 1.0, 'learning_rate': 0.05, 'max_depth': 5, 'subsample': 0.8},\n",
       " mean: 0.82828, std: 0.02250, params: {'colsample_bytree': 1.0, 'learning_rate': 0.05, 'max_depth': 5, 'subsample': 0.85},\n",
       " mean: 0.82267, std: 0.01746, params: {'colsample_bytree': 1.0, 'learning_rate': 0.05, 'max_depth': 5, 'subsample': 0.9},\n",
       " mean: 0.82716, std: 0.01950, params: {'colsample_bytree': 1.0, 'learning_rate': 0.05, 'max_depth': 5, 'subsample': 0.95},\n",
       " mean: 0.82155, std: 0.01717, params: {'colsample_bytree': 1.0, 'learning_rate': 0.05, 'max_depth': 10, 'subsample': 0.8},\n",
       " mean: 0.82604, std: 0.01989, params: {'colsample_bytree': 1.0, 'learning_rate': 0.05, 'max_depth': 10, 'subsample': 0.85},\n",
       " mean: 0.82604, std: 0.01299, params: {'colsample_bytree': 1.0, 'learning_rate': 0.05, 'max_depth': 10, 'subsample': 0.9},\n",
       " mean: 0.82492, std: 0.01924, params: {'colsample_bytree': 1.0, 'learning_rate': 0.05, 'max_depth': 10, 'subsample': 0.95},\n",
       " mean: 0.81930, std: 0.01767, params: {'colsample_bytree': 1.0, 'learning_rate': 0.05, 'max_depth': 100, 'subsample': 0.8},\n",
       " mean: 0.82155, std: 0.01428, params: {'colsample_bytree': 1.0, 'learning_rate': 0.05, 'max_depth': 100, 'subsample': 0.85},\n",
       " mean: 0.82043, std: 0.01145, params: {'colsample_bytree': 1.0, 'learning_rate': 0.05, 'max_depth': 100, 'subsample': 0.9},\n",
       " mean: 0.81818, std: 0.01455, params: {'colsample_bytree': 1.0, 'learning_rate': 0.05, 'max_depth': 100, 'subsample': 0.95},\n",
       " mean: 0.81033, std: 0.01657, params: {'colsample_bytree': 1.0, 'learning_rate': 0.1, 'max_depth': 3, 'subsample': 0.8},\n",
       " mean: 0.81033, std: 0.02861, params: {'colsample_bytree': 1.0, 'learning_rate': 0.1, 'max_depth': 3, 'subsample': 0.85},\n",
       " mean: 0.80584, std: 0.03222, params: {'colsample_bytree': 1.0, 'learning_rate': 0.1, 'max_depth': 3, 'subsample': 0.9},\n",
       " mean: 0.81481, std: 0.02147, params: {'colsample_bytree': 1.0, 'learning_rate': 0.1, 'max_depth': 3, 'subsample': 0.95},\n",
       " mean: 0.81706, std: 0.02940, params: {'colsample_bytree': 1.0, 'learning_rate': 0.1, 'max_depth': 5, 'subsample': 0.8},\n",
       " mean: 0.82828, std: 0.02182, params: {'colsample_bytree': 1.0, 'learning_rate': 0.1, 'max_depth': 5, 'subsample': 0.85},\n",
       " mean: 0.82043, std: 0.02540, params: {'colsample_bytree': 1.0, 'learning_rate': 0.1, 'max_depth': 5, 'subsample': 0.9},\n",
       " mean: 0.82828, std: 0.02147, params: {'colsample_bytree': 1.0, 'learning_rate': 0.1, 'max_depth': 5, 'subsample': 0.95},\n",
       " mean: 0.81033, std: 0.01145, params: {'colsample_bytree': 1.0, 'learning_rate': 0.1, 'max_depth': 10, 'subsample': 0.8},\n",
       " mean: 0.81145, std: 0.01455, params: {'colsample_bytree': 1.0, 'learning_rate': 0.1, 'max_depth': 10, 'subsample': 0.85},\n",
       " mean: 0.80696, std: 0.01871, params: {'colsample_bytree': 1.0, 'learning_rate': 0.1, 'max_depth': 10, 'subsample': 0.9},\n",
       " mean: 0.81481, std: 0.00991, params: {'colsample_bytree': 1.0, 'learning_rate': 0.1, 'max_depth': 10, 'subsample': 0.95},\n",
       " mean: 0.80584, std: 0.01767, params: {'colsample_bytree': 1.0, 'learning_rate': 0.1, 'max_depth': 100, 'subsample': 0.8},\n",
       " mean: 0.81033, std: 0.01514, params: {'colsample_bytree': 1.0, 'learning_rate': 0.1, 'max_depth': 100, 'subsample': 0.85},\n",
       " mean: 0.80584, std: 0.01746, params: {'colsample_bytree': 1.0, 'learning_rate': 0.1, 'max_depth': 100, 'subsample': 0.9},\n",
       " mean: 0.81033, std: 0.01111, params: {'colsample_bytree': 1.0, 'learning_rate': 0.1, 'max_depth': 100, 'subsample': 0.95}]"
      ]
     },
     "execution_count": 39,
     "metadata": {},
     "output_type": "execute_result"
    }
   ],
   "source": [
    "cv.grid_scores_"
   ]
  },
  {
   "cell_type": "code",
   "execution_count": 40,
   "metadata": {
    "collapsed": true
   },
   "outputs": [],
   "source": [
    "predictions = cv.predict(test[predictors])\n",
    "submission = pd.DataFrame({\n",
    "    'PassengerId': test['PassengerId'],\n",
    "    'Survived': predictions\n",
    "})\n",
    "submission.to_csv('submission_xgb.csv', index=False)"
   ]
  },
  {
   "cell_type": "code",
   "execution_count": 41,
   "metadata": {
    "collapsed": false
   },
   "outputs": [
    {
     "data": {
      "text/plain": [
       "0    549\n",
       "1    342\n",
       "Name: Survived, dtype: int64"
      ]
     },
     "execution_count": 41,
     "metadata": {},
     "output_type": "execute_result"
    }
   ],
   "source": [
    "train_data.Survived.value_counts()"
   ]
  }
 ],
 "metadata": {
  "kernelspec": {
   "display_name": "Python 3",
   "language": "python",
   "name": "python3"
  },
  "language_info": {
   "codemirror_mode": {
    "name": "ipython",
    "version": 3
   },
   "file_extension": ".py",
   "mimetype": "text/x-python",
   "name": "python",
   "nbconvert_exporter": "python",
   "pygments_lexer": "ipython3",
   "version": "3.6.0"
  }
 },
 "nbformat": 4,
 "nbformat_minor": 2
}
